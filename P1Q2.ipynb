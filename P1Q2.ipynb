{
 "cells": [
  {
   "cell_type": "code",
   "execution_count": 1,
   "metadata": {},
   "outputs": [],
   "source": [
    "#Given parameters\n",
    "F6P = 0.1 #mM concentration and constant\n",
    "ATP = 2.3 #mM conc and constant\n",
    "PFK = 0.12 #uM conc and const; enzyme concentration\n",
    "#PFK = PFKu/1000 #mM conc and const; enzyme concentration\n",
    "KF6P = 0.11 #mM\n",
    "KATP = 0.42 #mM\n",
    "kcat = 0.4*3600 #1/hr\n",
    "\n",
    "\n",
    "\n"
   ]
  },
  {
   "cell_type": "code",
   "execution_count": 2,
   "metadata": {},
   "outputs": [
    {
     "data": {
      "text/plain": [
       "69.5798319327731"
      ]
     },
     "execution_count": 2,
     "metadata": {},
     "output_type": "execute_result"
    }
   ],
   "source": [
    "#Kinetic rate limit of PFK\n",
    "r11 = kcat*PFK #r1 part 1 #units of uM/hr\n",
    "r12 = (F6P/(KF6P+F6P)) #r1 part 2 #unitless\n",
    "r13 = (ATP/(KATP + ATP)) #r1 part 3 #unitless\n",
    "r1 = r11*r12*r13 #Kinetic limit of PFK\n",
    "r1 #uM/hr"
   ]
  },
  {
   "cell_type": "code",
   "execution_count": 3,
   "metadata": {},
   "outputs": [],
   "source": [
    "#Data 3-5-AMP\n",
    "AMPcon = [0.000, 0.055, 0.093, 0.181, 0.405, 0.990] #3-5-AMP concentration mM\n",
    "Overallrate = [3.003, 6.302, 29.761, 52.002, 60.306, 68.653] #uM/hr\n",
    "conest = [0.59, 1.20, 5.7, 10.2, 11.8, 13.3] #95% confidence estimate of measured rate\n"
   ]
  },
  {
   "cell_type": "code",
   "execution_count": 4,
   "metadata": {},
   "outputs": [
    {
     "data": {
      "text/plain": [
       "0.04510578098748108"
      ]
     },
     "execution_count": 4,
     "metadata": {},
     "output_type": "execute_result"
    }
   ],
   "source": [
    "#Calculate W1\n",
    "W1 = (Overallrate[0]/r1)/(1-(Overallrate[0]/r1)) #no 3-5-AMP so fi = 0\n",
    "W1 #dimensionless\n"
   ]
  },
  {
   "cell_type": "code",
   "execution_count": 5,
   "metadata": {},
   "outputs": [
    {
     "data": {
      "text/plain": [
       "74.02765495632235"
      ]
     },
     "execution_count": 5,
     "metadata": {},
     "output_type": "execute_result"
    }
   ],
   "source": [
    "#Calculate W2\n",
    "a =(Overallrate[5]/r1)\n",
    "W2 = (a+W1*(a-1))/(1-a) #with 3-5-AMP so assume saturated at highest conc\n",
    "W2"
   ]
  },
  {
   "cell_type": "code",
   "execution_count": 6,
   "metadata": {},
   "outputs": [],
   "source": [
    "#Estimate paramters for hill-type binding function\n",
    "Ki = 0.3 #needed to be less than 1\n",
    "n = 6 #needed to be higher to get closer to 1 when put into fi\n",
    "#x = AMPcon[5]/AMPcon[5]\n",
    "#fi = ((x/Ki)**n)/((1+(x/Ki)**n))\n",
    "#fi"
   ]
  },
  {
   "cell_type": "code",
   "execution_count": 7,
   "metadata": {},
   "outputs": [
    {
     "name": "stdout",
     "output_type": "stream",
     "text": [
      "[0.0, 0.05555555555555556, 0.09393939393939393, 0.1828282828282828, 0.4090909090909091, 1.0]\n"
     ]
    }
   ],
   "source": [
    "#get values of x for all concentrations assuming saturated at data point 6\n",
    "x = []\n",
    "for t in AMPcon:\n",
    "    c = t/AMPcon[5] #divide each data point by highest to get fraction of bound activator\n",
    "    x.append(c)\n",
    "print(x)"
   ]
  },
  {
   "cell_type": "code",
   "execution_count": 8,
   "metadata": {},
   "outputs": [
    {
     "name": "stdout",
     "output_type": "stream",
     "text": [
      "[0.0, 4.032922960816195e-05, 0.000941780713819529, 0.04873428489269943, 0.8654052601900627, 0.9992715310538617]\n"
     ]
    }
   ],
   "source": [
    "#Calculate fi (hill type binding function) for all data points and store in a list\n",
    "filist = []\n",
    "for i in x:\n",
    "    fi = ((i/Ki)**n)/((1+(i/Ki)**n)) #plug everything into fi\n",
    "    filist.append(fi)\n",
    "print(filist)"
   ]
  },
  {
   "cell_type": "code",
   "execution_count": 9,
   "metadata": {},
   "outputs": [
    {
     "name": "stdout",
     "output_type": "stream",
     "text": [
      "[0.0431590579710145, 0.045884610577263424, 0.10299710092881179, 0.7850752195094296, 0.9846411467948317, 0.9866700140730964]\n"
     ]
    }
   ],
   "source": [
    "#Calculate control correction functions for all fi\n",
    "vlist = []\n",
    "for j in filist:\n",
    "    v = (W1 + W2*j)/(1+W1 + W2*j) #calculate the u variable equation now, called it v on the exam\n",
    "    vlist.append(v)\n",
    "print(vlist)"
   ]
  },
  {
   "cell_type": "code",
   "execution_count": 10,
   "metadata": {},
   "outputs": [
    {
     "name": "stdout",
     "output_type": "stream",
     "text": [
      "[3.003, 3.192643492266732, 7.166520972189592, 54.62540182805106, 68.51116550807735, 68.65233375231293]\n"
     ]
    }
   ],
   "source": [
    "#Calculate estimated overall rate\n",
    "rjlist = []\n",
    "for a in vlist:\n",
    "    rj = r1*a\n",
    "    rjlist.append(rj) #calculate the estimated overall rate to create a model to compare to measured data points\n",
    "print(rjlist)"
   ]
  },
  {
   "cell_type": "code",
   "execution_count": null,
   "metadata": {},
   "outputs": [],
   "source": []
  },
  {
   "cell_type": "code",
   "execution_count": 11,
   "metadata": {},
   "outputs": [
    {
     "data": {
      "image/png": "[encoded data removed]",
      "text/plain": [
       "<Figure size 432x288 with 1 Axes>"
      ]
     },
     "metadata": {
      "needs_background": "light"
     },
     "output_type": "display_data"
    }
   ],
   "source": [
    "#make graph to display data and data points\n",
    "import matplotlib.pyplot as plt\n",
    "# concentration of 3-5-AMP\n",
    "xest = AMPcon\n",
    "# estimation of overall rate of 3-5-AMP\n",
    "yest = rjlist\n",
    "  \n",
    "# plotting the estimation/model\n",
    "plt.plot(xest, yest, color = \"green\")\n",
    "\n",
    "#concentration of 3-5-AMP\n",
    "xmeas = AMPcon\n",
    "#measured overall rate of 3-5-AMP\n",
    "ymeas = Overallrate\n",
    "\n",
    "plt.plot(xmeas,ymeas, marker = \"o\", linestyle = \"\", markerfacecolor = \"red\", markeredgecolor = \"red\")\n",
    "\n",
    "#add in error bars for the measured data\n",
    "plt.errorbar(xmeas, ymeas, conest, linestyle = \"\", color = \"red\")\n",
    "  \n",
    "# naming the x axis\n",
    "plt.xlabel('3-5-AMP [mM]')\n",
    "# naming the y axis\n",
    "plt.ylabel('Overall Rate [\\u03BCM/hr]')\n",
    "plt.show()\n",
    "\n",
    "\n",
    "#want data line to be smoother but this is based on being a 3rd polynomial so doesn't work\n",
    "#from scipy.interpolate import make_interp_spline, BSpline\n",
    "#import numpy as np\n",
    "\n",
    "#x4 = np.array(xest)\n",
    "#y4 = np.array(yest)\n",
    "\n",
    "#x_new = np.linspace(x4.min(), y4.max(), 400)\n",
    "#a_BSpline = make_interp_spline(x4, y4)\n",
    "#y_new = a_BSpline(x_new)\n",
    "\n",
    "#plt.plot(x_new, y_new)\n",
    "\n",
    "#plt.show()"
   ]
  },
  {
   "cell_type": "code",
   "execution_count": null,
   "metadata": {},
   "outputs": [],
   "source": []
  },
  {
   "cell_type": "code",
   "execution_count": null,
   "metadata": {},
   "outputs": [],
   "source": []
  },
  {
   "cell_type": "code",
   "execution_count": null,
   "metadata": {},
   "outputs": [],
   "source": []
  }
 ],
 "metadata": {
  "kernelspec": {
   "display_name": "Python 3",
   "language": "python",
   "name": "python3"
  },
  "language_info": {
   "codemirror_mode": {
    "name": "ipython",
    "version": 3
   },
   "file_extension": ".py",
   "mimetype": "text/x-python",
   "name": "python",
   "nbconvert_exporter": "python",
   "pygments_lexer": "ipython3",
   "version": "3.8.5"
  }
 },
 "nbformat": 4,
 "nbformat_minor": 4
}
